{
 "cells": [
  {
   "cell_type": "code",
   "execution_count": null,
   "id": "013802d6",
   "metadata": {},
   "outputs": [],
   "source": []
  },
  {
   "cell_type": "markdown",
   "id": "b928f830",
   "metadata": {},
   "source": [
    "## Exercise 2"
   ]
  },
  {
   "cell_type": "markdown",
   "id": "13ec8aaa",
   "metadata": {},
   "source": [
    "# Welcome to Python\n"
   ]
  },
  {
   "cell_type": "markdown",
   "id": "055e7cf8",
   "metadata": {},
   "source": [
    "<!-- code cells go here ->"
   ]
  },
  {
   "cell_type": "code",
   "execution_count": null,
   "id": "228561df",
   "metadata": {},
   "outputs": [],
   "source": [
    "## code cell"
   ]
  },
  {
   "cell_type": "markdown",
   "id": "65bc92f1",
   "metadata": {},
   "source": [
    "## Exercise 3 "
   ]
  },
  {
   "cell_type": "markdown",
   "id": "86060715",
   "metadata": {},
   "source": [
    "# Introduction to Python"
   ]
  },
  {
   "cell_type": "markdown",
   "id": "29c17fee",
   "metadata": {},
   "source": [
    "In this notebook, we are going to dive into the basics of Python"
   ]
  },
  {
   "cell_type": "markdown",
   "id": "d0ef8027",
   "metadata": {},
   "source": [
    "## Exercise 4"
   ]
  },
  {
   "cell_type": "markdown",
   "id": "70689abc",
   "metadata": {},
   "source": [
    "# Data Science Languages\n",
    "\n",
    "In the field of data science , many programming languages are commonly used. A list of those\n",
    "\n",
    "1. Python\n",
    "2. R\n",
    "3. Julia\n",
    "4. SQL\n"
   ]
  },
  {
   "cell_type": "markdown",
   "id": "d72e9d2e",
   "metadata": {},
   "source": [
    "## Exercise 5"
   ]
  },
  {
   "cell_type": "markdown",
   "id": "900793d4",
   "metadata": {},
   "source": [
    "# Data Science Libraries\n",
    "Some useful libraries used in data science. Here is an ordered list of essential ones\n",
    "1. NumPy\n",
    "2. Pandas\n",
    "3. Matplotlib\n",
    "4. Seaborn\n",
    "5. Scikit-learn"
   ]
  },
  {
   "cell_type": "markdown",
   "id": "49124d74",
   "metadata": {},
   "source": [
    "## Exercise 6"
   ]
  },
  {
   "cell_type": "markdown",
   "id": "39390102",
   "metadata": {},
   "source": [
    " # Data Science Tools"
   ]
  },
  {
   "cell_type": "code",
   "execution_count": 7,
   "id": "8c1ba372",
   "metadata": {},
   "outputs": [
    {
     "data": {
      "text/markdown": [
       "\n",
       "\n",
       "| Tool           | Description                               |\n",
       "| -------------- | ----------------------------------------- |\n",
       "| NumPy          | Numerical computing library in Python      |\n",
       "| Pandas         | Data manipulation and analysis library    |\n",
       "| Matplotlib     | Plotting and visualization library        |\n",
       "| Seaborn        | Statistical data visualization library    |\n",
       "| Scikit-learn   | Machine learning library in Python        |\n"
      ],
      "text/plain": [
       "<IPython.core.display.Markdown object>"
      ]
     },
     "execution_count": 7,
     "metadata": {},
     "output_type": "execute_result"
    }
   ],
   "source": [
    "#  Markdown cell with a table of Data Science tools\n",
    "\n",
    "markdown_content = \"\"\"\n",
    "\n",
    "| Tool           | Description                               |\n",
    "| -------------- | ----------------------------------------- |\n",
    "| NumPy          | Numerical computing library in Python      |\n",
    "| Pandas         | Data manipulation and analysis library    |\n",
    "| Matplotlib     | Plotting and visualization library        |\n",
    "| Seaborn        | Statistical data visualization library    |\n",
    "| Scikit-learn   | Machine learning library in Python        |\n",
    "\"\"\"\n",
    "\n",
    "## Displaying the Markdown content\n",
    "from IPython.display import Markdown\n",
    "Markdown(markdown_content)\n"
   ]
  },
  {
   "cell_type": "markdown",
   "id": "eadbc31b",
   "metadata": {},
   "source": [
    "## Exercise 7"
   ]
  },
  {
   "cell_type": "markdown",
   "id": "8f1c05f3",
   "metadata": {},
   "source": [
    "# Arithmetic Expressions Examples\n"
   ]
  },
  {
   "cell_type": "markdown",
   "id": "c967f6cc",
   "metadata": {},
   "source": [
    "\n",
    "\n",
    "| Example          | Description                               |\n",
    "| --------------   | ----------------------------------------- |\n",
    "| `2 + 3`          | Addition                                  |\n",
    "| `5 - 2`          | Subtraction                               |\n",
    "| `4 * 6`          | Multiplication                            |\n",
    "| `8 / 2`          | Division                                  |\n",
    "| `10 // 3`        | Floor Division                            |\n",
    "| `7 % 4`          | Modulus (Remainder)                       |\n",
    "| `2 ** 4`         | Exponentiation                            |\n"
   ]
  },
  {
   "cell_type": "code",
   "execution_count": 9,
   "id": "11228809",
   "metadata": {},
   "outputs": [
    {
     "name": "stdout",
     "output_type": "stream",
     "text": [
      "Addition: 5\n",
      "Subtraction: 3\n"
     ]
    }
   ],
   "source": [
    "# add\n",
    "addition = 2 + 3\n",
    "print(\"Addition:\", addition)\n",
    "\n",
    "# Subtraction\n",
    "subtraction = 5 - 2\n",
    "print(\"Subtraction:\", subtraction)\n"
   ]
  },
  {
   "cell_type": "markdown",
   "id": "7e548612",
   "metadata": {},
   "source": [
    "## Exercise 8"
   ]
  },
  {
   "cell_type": "markdown",
   "id": "390f5471",
   "metadata": {},
   "source": [
    "# Multiply and Add Numbers"
   ]
  },
  {
   "cell_type": "code",
   "execution_count": 12,
   "id": "a525e1ad",
   "metadata": {},
   "outputs": [
    {
     "name": "stdout",
     "output_type": "stream",
     "text": [
      "Multiplication Result: 24\n",
      "Addition Result: 10\n"
     ]
    }
   ],
   "source": [
    "num1 = 4\n",
    "num2 = 6\n",
    "\n",
    "# Multiply\n",
    "multiply = num1 * num2\n",
    "print(\"Multiplication Result:\", multiply)\n",
    "\n",
    "# Add\n",
    "addition = num1 + num2\n",
    "print(\"Addition Result:\", addition)\n"
   ]
  },
  {
   "cell_type": "code",
   "execution_count": null,
   "id": "00e3a7e8",
   "metadata": {},
   "outputs": [],
   "source": []
  },
  {
   "cell_type": "markdown",
   "id": "7f534911",
   "metadata": {},
   "source": [
    "## Exercise 9"
   ]
  },
  {
   "cell_type": "markdown",
   "id": "deb97a3b",
   "metadata": {},
   "source": [
    "# Convert Minutes to Hours"
   ]
  },
  {
   "cell_type": "code",
   "execution_count": 13,
   "id": "1e91a3bc",
   "metadata": {},
   "outputs": [
    {
     "name": "stdout",
     "output_type": "stream",
     "text": [
      "120 minutes is 2.0 hours.\n"
     ]
    }
   ],
   "source": [
    "minutes = 120\n",
    "\n",
    "# Conversion\n",
    "hours = minutes / 60\n",
    "\n",
    "# Display Result\n",
    "print(f\"{minutes} minutes is {hours} hours.\")\n"
   ]
  },
  {
   "cell_type": "code",
   "execution_count": null,
   "id": "c775c98f",
   "metadata": {},
   "outputs": [],
   "source": []
  },
  {
   "cell_type": "markdown",
   "id": "319ef23c",
   "metadata": {},
   "source": [
    "## Exercise 10"
   ]
  },
  {
   "cell_type": "markdown",
   "id": "4a5d6a71",
   "metadata": {},
   "source": [
    "# Introduction to Python Libraries\n",
    "\n",
    "In the exciting world of Python programming, various libraries can supercharge your projects. Here's a quick look at some essential ones:\n",
    "\n",
    "- **NumPy**: Powerful numerical computing library\n",
    "- **Pandas**: Data manipulation and analysis made easy\n",
    "- **Matplotlib**: Create stunning visualizations effortlessly\n",
    "- **Seaborn**: Enhance your statistical data visualizations\n",
    "- **Scikit-learn**: Dive into machine learning with ease\n"
   ]
  },
  {
   "cell_type": "markdown",
   "id": "af224049",
   "metadata": {},
   "source": [
    "# Essential Data Science Languages\n",
    "\n",
    "Discover the key programming languages that power data science tasks effortlessly:\n",
    "\n",
    "- **Python**: Versatile and widely used for data analysis, machine learning, and more.\n",
    "- **R**: Ideal for statistical analysis and visualization in data science projects.\n",
    "- **SQL**: Essential for managing and querying databases to extract valuable insights.\n",
    "- **Julia**: Emerging language known for its high-performance computing capabilities.\n"
   ]
  },
  {
   "cell_type": "code",
   "execution_count": null,
   "id": "fa1ea258",
   "metadata": {},
   "outputs": [],
   "source": []
  },
  {
   "cell_type": "markdown",
   "id": "6f586a65",
   "metadata": {},
   "source": [
    "## Exercise 11"
   ]
  },
  {
   "cell_type": "markdown",
   "id": "214708ff",
   "metadata": {},
   "source": [
    "# Authors"
   ]
  },
  {
   "cell_type": "markdown",
   "id": "982b71f2",
   "metadata": {},
   "source": [
    "\n",
    "Instructors for tools for data science course:\n",
    "\n",
    "- **Aije Egwaikhide**\n",
    "- **Svetlana Levitan**\n",
    "- **Romeo Kienzler**\n"
   ]
  },
  {
   "cell_type": "code",
   "execution_count": null,
   "id": "0ab6ea79",
   "metadata": {},
   "outputs": [],
   "source": []
  },
  {
   "cell_type": "code",
   "execution_count": null,
   "id": "e21dee31",
   "metadata": {},
   "outputs": [],
   "source": []
  },
  {
   "cell_type": "code",
   "execution_count": null,
   "id": "6c2a4d8f",
   "metadata": {},
   "outputs": [],
   "source": []
  },
  {
   "cell_type": "code",
   "execution_count": null,
   "id": "6649d280",
   "metadata": {},
   "outputs": [],
   "source": []
  },
  {
   "cell_type": "code",
   "execution_count": null,
   "id": "b3fbf105",
   "metadata": {},
   "outputs": [],
   "source": []
  }
 ],
 "metadata": {
  "kernelspec": {
   "display_name": "Python 3 (ipykernel)",
   "language": "python",
   "name": "python3"
  },
  "language_info": {
   "codemirror_mode": {
    "name": "ipython",
    "version": 3
   },
   "file_extension": ".py",
   "mimetype": "text/x-python",
   "name": "python",
   "nbconvert_exporter": "python",
   "pygments_lexer": "ipython3",
   "version": "3.11.5"
  }
 },
 "nbformat": 4,
 "nbformat_minor": 5
}
